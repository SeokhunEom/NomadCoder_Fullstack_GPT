{
 "cells": [
  {
   "cell_type": "code",
   "id": "initial_id",
   "metadata": {
    "collapsed": true,
    "ExecuteTime": {
     "end_time": "2024-12-10T13:43:36.012986Z",
     "start_time": "2024-12-10T13:43:35.577265Z"
    }
   },
   "source": [
    "from langchain.chat_models import ChatOpenAI\n",
    "from langchain.callbacks import StreamingStdOutCallbackHandler\n",
    "from langchain.prompts.few_shot import FewShotChatMessagePromptTemplate\n",
    "from langchain.prompts import ChatPromptTemplate\n",
    "from dotenv import load_dotenv\n",
    "\n",
    "load_dotenv()\n",
    "\n",
    "model = ChatOpenAI(model=\"gpt-4o-mini\", streaming=True, callbacks=[StreamingStdOutCallbackHandler()])"
   ],
   "outputs": [],
   "execution_count": 1
  },
  {
   "metadata": {
    "ExecuteTime": {
     "end_time": "2024-12-10T13:43:37.086375Z",
     "start_time": "2024-12-10T13:43:37.079070Z"
    }
   },
   "cell_type": "code",
   "source": [
    "examples = [\n",
    "    {\n",
    "        \"movie\": \"The Matrix\",\n",
    "        \"answer\": \"\"\"\n",
    "        director: Lana Wachowski\n",
    "        main cast: Keanu Reeves, Laurence Fishburne, Carrie-Anne Moss\n",
    "        budget: $63 million\n",
    "        revenue: $463 million\n",
    "        genre: science fiction\n",
    "        synopsis: A computer hacker learns about the true nature of reality and his role in the war against its controllers.\n",
    "        \"\"\"\n",
    "    },\n",
    "    {\n",
    "        \"movie\": \"Inception\",\n",
    "        \"answer\": \"\"\"\n",
    "        director: Christopher Nolan\n",
    "        main cast: Leonardo DiCaprio, Joseph Gordon-Levitt, Ellen Page\n",
    "        budget: $160 million\n",
    "        revenue: $836 million\n",
    "        genre: science fiction, thriller\n",
    "        synopsis: A skilled thief, who steals corporate secrets through dream-sharing technology, is given the chance to have his past crimes erased if he can plant an idea into someone's mind.\n",
    "        \"\"\"\n",
    "    },\n",
    "    {\n",
    "        \"movie\": \"Titanic\",\n",
    "        \"answer\": \"\"\"\n",
    "        director: James Cameron\n",
    "        main cast: Leonardo DiCaprio, Kate Winslet, Billy Zane\n",
    "        budget: $200 million\n",
    "        revenue: $2.2 billion\n",
    "        genre: romance, drama\n",
    "        synopsis: A fictionalized account of the sinking of the Titanic, focusing on a forbidden romance between a first-class passenger and a steerage artist.\n",
    "        \"\"\"\n",
    "    }\n",
    "]\n",
    "\n",
    "example_prompt = ChatPromptTemplate.from_messages([\n",
    "    (\"human\", \"What is the director, main cast, budget, revenue, genre, and synopsis of {movie}?\"),\n",
    "    (\"ai\", \"{answer}\")\n",
    "])\n",
    "\n",
    "fewshot_prompt = FewShotChatMessagePromptTemplate(\n",
    "    example_prompt=example_prompt,\n",
    "    examples=examples,\n",
    ")\n",
    "\n",
    "final_prompt = ChatPromptTemplate.from_messages([\n",
    "    (\"system\", \"You are a movie buff with deep knowledge of popular movies. Your task is to answer questions about popular movies.\"),\n",
    "    fewshot_prompt,\n",
    "    (\"human\", \"What is the director, main cast, budget, revenue, genre, and synopsis of {movie}?\"),\n",
    "])\n",
    "\n",
    "chain = final_prompt | model"
   ],
   "id": "6bd0ef1f4f9a294",
   "outputs": [],
   "execution_count": 2
  },
  {
   "metadata": {
    "ExecuteTime": {
     "end_time": "2024-12-10T13:43:40.221513Z",
     "start_time": "2024-12-10T13:43:38.509196Z"
    }
   },
   "cell_type": "code",
   "source": "chain.invoke({\"movie\": \"Interstellar\"})",
   "id": "4d3c7343f709cb85",
   "outputs": [
    {
     "name": "stdout",
     "output_type": "stream",
     "text": [
      "\n",
      "        director: Christopher Nolan\n",
      "        main cast: Matthew McConaughey, Anne Hathaway, Jessica Chastain\n",
      "        budget: $165 million\n",
      "        revenue: $677 million\n",
      "        genre: science fiction, adventure, drama\n",
      "        synopsis: A group of explorers travels through a wormhole near Saturn in search of a new habitable planet as Earth faces ecological collapse.\n",
      "        "
     ]
    },
    {
     "data": {
      "text/plain": [
       "AIMessageChunk(content='\\n        director: Christopher Nolan\\n        main cast: Matthew McConaughey, Anne Hathaway, Jessica Chastain\\n        budget: $165 million\\n        revenue: $677 million\\n        genre: science fiction, adventure, drama\\n        synopsis: A group of explorers travels through a wormhole near Saturn in search of a new habitable planet as Earth faces ecological collapse.\\n        ')"
      ]
     },
     "execution_count": 3,
     "metadata": {},
     "output_type": "execute_result"
    }
   ],
   "execution_count": 3
  },
  {
   "metadata": {},
   "cell_type": "code",
   "outputs": [],
   "execution_count": null,
   "source": "",
   "id": "bf30869b1d5b5998"
  }
 ],
 "metadata": {
  "kernelspec": {
   "display_name": "Python 3",
   "language": "python",
   "name": "python3"
  },
  "language_info": {
   "codemirror_mode": {
    "name": "ipython",
    "version": 2
   },
   "file_extension": ".py",
   "mimetype": "text/x-python",
   "name": "python",
   "nbconvert_exporter": "python",
   "pygments_lexer": "ipython2",
   "version": "2.7.6"
  }
 },
 "nbformat": 4,
 "nbformat_minor": 5
}
