{
 "cells": [
  {
   "cell_type": "code",
   "id": "initial_id",
   "metadata": {
    "collapsed": true,
    "ExecuteTime": {
     "end_time": "2024-12-15T09:50:10.705640Z",
     "start_time": "2024-12-15T09:50:09.759106Z"
    }
   },
   "source": [
    "from langchain.chat_models import ChatOpenAI\n",
    "from langchain.document_loaders import TextLoader\n",
    "from langchain.text_splitter import CharacterTextSplitter\n",
    "from langchain.embeddings import OpenAIEmbeddings, CacheBackedEmbeddings\n",
    "from langchain.storage import LocalFileStore\n",
    "from langchain.vectorstores import FAISS\n",
    "from langchain.memory import ConversationSummaryBufferMemory\n",
    "from langchain.prompts import ChatPromptTemplate, MessagesPlaceholder\n",
    "from langchain.schema.runnable import RunnablePassthrough\n",
    "from dotenv import load_dotenv\n",
    "\n",
    "load_dotenv()\n",
    "\n",
    "llm = ChatOpenAI(temperature=0.1)\n",
    "\n",
    "loader = TextLoader(\"files/document.txt\")\n",
    "text_splitter = CharacterTextSplitter(\n",
    "    separator=\"\\n\",\n",
    "    chunk_size=1000,\n",
    "    chunk_overlap=200,\n",
    ")\n",
    "documents = loader.load_and_split(text_splitter=text_splitter)\n",
    "\n",
    "underlying_embeddings = OpenAIEmbeddings()\n",
    "store = LocalFileStore(\"./.cache/\")\n",
    "cached_embeddings = CacheBackedEmbeddings.from_bytes_store(underlying_embeddings, store)\n",
    "\n",
    "db = FAISS.from_documents(documents, cached_embeddings)\n",
    "retriever = db.as_retriever()\n",
    "\n",
    "memory = ConversationSummaryBufferMemory(llm=llm, max_token_limit=1000, return_messages=True)\n",
    "\n",
    "def load_memory(_):\n",
    "    return memory.load_memory_variables({})[\"history\"]\n",
    "\n",
    "def save_memory(question, response):\n",
    "    memory.save_context(\n",
    "        {\"input\": question},\n",
    "        {\"output\": response},\n",
    "    )\n",
    "\n",
    "prompt = ChatPromptTemplate.from_messages([\n",
    "    (\n",
    "        \"system\",\n",
    "        \"\"\"\n",
    "        You are a helpful AI that provides answer using only the following document. If you don't know the answer just say 'I don't know'. Don't forget to say 'I don't know' if you don't know the answer. Here is the document:\n",
    "        ---\n",
    "        {document}\n",
    "        \"\"\"\n",
    "    ),\n",
    "    (\"system\", \"Now conversation started.\"),\n",
    "    MessagesPlaceholder(variable_name=\"history\"),\n",
    "    (\"human\", \"{question}\"),\n",
    "])\n",
    "\n",
    "chain = {\"document\": retriever, \"question\": RunnablePassthrough()} | RunnablePassthrough.assign(history=load_memory) | prompt | llm\n",
    "\n",
    "def invoke_chain(question):\n",
    "    result = chain.invoke(question)\n",
    "    save_memory(question, result.content)\n",
    "    print(result.content)"
   ],
   "outputs": [],
   "execution_count": 1
  },
  {
   "metadata": {
    "ExecuteTime": {
     "end_time": "2024-12-15T09:50:15.409768Z",
     "start_time": "2024-12-15T09:50:10.719751Z"
    }
   },
   "cell_type": "code",
   "source": [
    "invoke_chain(\"Is Aaronson guilty?\")\n",
    "invoke_chain(\"What message did he write in the table?\")\n",
    "invoke_chain(\"Who is Julia\")\n",
    "invoke_chain(\"What was my first question\")"
   ],
   "id": "96175b77c10083d4",
   "outputs": [
    {
     "name": "stdout",
     "output_type": "stream",
     "text": [
      "According to the document, Jones, Aaronson, and Rutherford were guilty of the crimes they were charged with.\n",
      "The message he wrote on the table was: \"FREEDOM IS SLAVERY\" and \"TWO AND TWO MAKE FIVE\".\n",
      "Julia is a character mentioned in the document who is associated with the protagonist and plays a significant role in the story.\n",
      "Your first question was about Aaronson's guilt.\n"
     ]
    }
   ],
   "execution_count": 2
  },
  {
   "metadata": {
    "ExecuteTime": {
     "end_time": "2024-12-15T09:50:15.511543Z",
     "start_time": "2024-12-15T09:50:15.510233Z"
    }
   },
   "cell_type": "code",
   "source": "",
   "id": "befba5d0ffbaba51",
   "outputs": [],
   "execution_count": null
  }
 ],
 "metadata": {
  "kernelspec": {
   "display_name": "Python 3",
   "language": "python",
   "name": "python3"
  },
  "language_info": {
   "codemirror_mode": {
    "name": "ipython",
    "version": 2
   },
   "file_extension": ".py",
   "mimetype": "text/x-python",
   "name": "python",
   "nbconvert_exporter": "python",
   "pygments_lexer": "ipython2",
   "version": "2.7.6"
  }
 },
 "nbformat": 4,
 "nbformat_minor": 5
}
