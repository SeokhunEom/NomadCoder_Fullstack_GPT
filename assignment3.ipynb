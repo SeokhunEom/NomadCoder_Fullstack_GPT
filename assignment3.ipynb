{
 "cells": [
  {
   "cell_type": "code",
   "id": "initial_id",
   "metadata": {
    "collapsed": true,
    "ExecuteTime": {
     "end_time": "2024-12-11T12:45:37.828380Z",
     "start_time": "2024-12-11T12:45:36.963117Z"
    }
   },
   "source": [
    "from langchain.memory import ConversationSummaryBufferMemory\n",
    "from langchain.chat_models import ChatOpenAI\n",
    "from langchain.prompts import FewShotChatMessagePromptTemplate, ChatPromptTemplate\n",
    "from langchain.schema.runnable import RunnablePassthrough\n",
    "from dotenv import load_dotenv\n",
    "\n",
    "load_dotenv()\n",
    "\n",
    "llm = ChatOpenAI(temperature=0.1)\n",
    "\n",
    "memory = ConversationSummaryBufferMemory(\n",
    "    llm=llm,\n",
    "    max_token_limit=150,\n",
    "    return_messages=True,\n",
    ")"
   ],
   "outputs": [],
   "execution_count": 1
  },
  {
   "metadata": {
    "ExecuteTime": {
     "end_time": "2024-12-11T12:45:37.838928Z",
     "start_time": "2024-12-11T12:45:37.834701Z"
    }
   },
   "cell_type": "code",
   "source": [
    "examples = [\n",
    "    { \"movie\": \"Top Gun\", \"answer\": \"🛩️👨‍✈️🔥\" },\n",
    "    { \"movie\": \"The Godfather\", \"answer\": \"👨‍👨‍👦🔫🍝\" },\n",
    "    { \"movie\": \"Finding Nemo\", \"answer\": \"🐟🛡️🌊\" },\n",
    "]\n",
    "\n",
    "example_prompt = ChatPromptTemplate.from_messages([\n",
    "    (\"human\", \"What are three emojis for '{movie}'?\"),\n",
    "    (\"ai\", \"{answer}\")\n",
    "])\n",
    "\n",
    "few_shot_prompt = FewShotChatMessagePromptTemplate(\n",
    "    example_prompt=example_prompt,\n",
    "    examples=examples,\n",
    ")\n",
    "\n",
    "final_prompt = ChatPromptTemplate.from_messages([\n",
    "    (\"system\", \"You are a helpful AI that provides three emojis representing a movie title.\"),\n",
    "    few_shot_prompt,\n",
    "    (\"system\", \"Now conversation started.\"),\n",
    "    (\"human\", \"{question}\"),\n",
    "])"
   ],
   "id": "b9fb55d198581887",
   "outputs": [],
   "execution_count": 2
  },
  {
   "metadata": {
    "ExecuteTime": {
     "end_time": "2024-12-11T12:45:37.893144Z",
     "start_time": "2024-12-11T12:45:37.889788Z"
    }
   },
   "cell_type": "code",
   "source": [
    "def load_memory(_):\n",
    "    return memory.load_memory_variables({})[\"history\"]\n",
    "\n",
    "chain = RunnablePassthrough.assign(history=load_memory) | final_prompt | llm\n",
    "\n",
    "def invoke_chain(question):\n",
    "    result = chain.invoke({\"question\": question})\n",
    "    memory.save_context(\n",
    "        {\"input\": question},\n",
    "        {\"output\": result.content},\n",
    "    )\n",
    "    print(result.content)"
   ],
   "id": "595d210f69e60e6",
   "outputs": [],
   "execution_count": 3
  },
  {
   "metadata": {
    "ExecuteTime": {
     "end_time": "2024-12-11T12:45:40.511658Z",
     "start_time": "2024-12-11T12:45:37.902069Z"
    }
   },
   "cell_type": "code",
   "source": [
    "invoke_chain(\"What are three emojis for 'Inception'?\")\n",
    "invoke_chain(\"What are three emojis for 'Frozen'?\")\n",
    "invoke_chain(\"What was the first movie I asked about?\")"
   ],
   "id": "b567a8e1b4772064",
   "outputs": [
    {
     "name": "stdout",
     "output_type": "stream",
     "text": [
      "🧠🕰️🌌\n",
      "❄️👸⛄\n",
      "The first movie you asked about was 'Top Gun'.\n"
     ]
    }
   ],
   "execution_count": 4
  },
  {
   "metadata": {
    "ExecuteTime": {
     "end_time": "2024-12-11T12:45:40.528482Z",
     "start_time": "2024-12-11T12:45:40.526254Z"
    }
   },
   "cell_type": "code",
   "source": "",
   "id": "45499595da40b4aa",
   "outputs": [],
   "execution_count": null
  }
 ],
 "metadata": {
  "kernelspec": {
   "display_name": "Python 3",
   "language": "python",
   "name": "python3"
  },
  "language_info": {
   "codemirror_mode": {
    "name": "ipython",
    "version": 2
   },
   "file_extension": ".py",
   "mimetype": "text/x-python",
   "name": "python",
   "nbconvert_exporter": "python",
   "pygments_lexer": "ipython2",
   "version": "2.7.6"
  }
 },
 "nbformat": 4,
 "nbformat_minor": 5
}
