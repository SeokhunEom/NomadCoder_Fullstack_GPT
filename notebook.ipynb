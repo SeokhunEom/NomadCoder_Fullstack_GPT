{
 "cells": [
  {
   "cell_type": "code",
   "id": "initial_id",
   "metadata": {
    "collapsed": true,
    "ExecuteTime": {
     "end_time": "2024-12-09T15:34:35.208226Z",
     "start_time": "2024-12-09T15:34:34.749936Z"
    }
   },
   "source": [
    "from langchain.chat_models import ChatOpenAI\n",
    "from langchain.prompts import ChatPromptTemplate\n",
    "from langchain.callbacks import StreamingStdOutCallbackHandler\n",
    "from dotenv import load_dotenv\n",
    "\n",
    "load_dotenv()\n",
    "\n",
    "model = ChatOpenAI(model=\"gpt-4o-mini\", streaming=True, callbacks=[StreamingStdOutCallbackHandler()])"
   ],
   "outputs": [],
   "execution_count": 1
  },
  {
   "metadata": {
    "ExecuteTime": {
     "end_time": "2024-12-09T15:35:05.574826Z",
     "start_time": "2024-12-09T15:34:51.956519Z"
    }
   },
   "cell_type": "code",
   "source": [
    "poet_prompt = ChatPromptTemplate.from_messages([\n",
    "    (\"system\", \"You are a creative poet with deep knowledge of computer programming. Your task is to write a poetic piece about given programming language.\"),\n",
    "    (\"human\", \"I want a poem about {programming_language}.\"),\n",
    "])\n",
    "\n",
    "analyst_prompt = ChatPromptTemplate.from_messages([\n",
    "    (\"system\", \"You are a literary analyst with expertise in poetry interpretation. Your task is to analyze and explain the given poem\"),\n",
    "    (\"human\", \"Can you analyze this poem for me? '''{poem}'''\"),\n",
    "])\n",
    "\n",
    "poet_chain = poet_prompt | model\n",
    "analyst_chain = analyst_prompt | model\n",
    "final_chain = {\"poem\": poet_chain} | analyst_chain\n",
    "\n",
    "final_chain.invoke({\"programming_language\": \"python\"})"
   ],
   "id": "72295f20a4e23489",
   "outputs": [
    {
     "name": "stdout",
     "output_type": "stream",
     "text": [
      "In the realm where logic meets the art,  \n",
      "A serpent slithers, playing its part.  \n",
      "With syntax clear as a summer sky,  \n",
      "Python whispers, “Come, let’s fly high.”  \n",
      "\n",
      "Indentations like gentle waves,  \n",
      "Structure and flow in the code it paves.  \n",
      "No braces locked in a rigid embrace,  \n",
      "Just elegance found in its open space.  \n",
      "\n",
      "From data wrangling to web’s vast expanse,  \n",
      "In the hands of the curious, it offers a chance.  \n",
      "Libraries gleam like jewels in the night,  \n",
      "NumPy and Pandas, they dance in the light.  \n",
      "\n",
      "A tapestry woven with threads of the mind,  \n",
      "With each line of code, new wonders we find.  \n",
      "Machine learning’s muse, AI’s best friend,  \n",
      "In Python’s embrace, the boundaries bend.  \n",
      "\n",
      "From novice to master, all find their way,  \n",
      "With each tiny script, the doubts fade away.  \n",
      "A language so gentle, yet powerful too,  \n",
      "In the heart of the coder, it blooms and it grew.  \n",
      "\n",
      "With a community vibrant, a spirit so free,  \n",
      "Sharing ideas like leaves on a tree.  \n",
      "In forums and meetups, the passion ignites,  \n",
      "As Python unites us on digital nights.  \n",
      "\n",
      "So here’s to the serpent, majestic and wise,  \n",
      "In the world of programming, it reaches the skies.  \n",
      "With every new project, let inspiration ignite,  \n",
      "For in Python, dear dreamers, we soar to new heights.This poem celebrates Python, a high-level programming language, through rich imagery and metaphorical language. It intertwines themes of creativity, community, and the transformative power of coding. Below, I will analyze various elements of the poem:\n",
      "\n",
      "### Structure and Form\n",
      "The poem is structured in six stanzas, each consisting of four lines (quatrains), and follows a consistent rhyme scheme (AABB). This regularity in form mirrors the structure and logic inherent in programming, creating a parallel between poetry and coding.\n",
      "\n",
      "### Themes\n",
      "\n",
      "1. **Logic and Artistry**: \n",
      "   - The opening lines introduce the intersection of logic and creativity: “In the realm where logic meets the art.” This sets the stage for the exploration of Python as not just a tool for programming but also a medium for artistic expression.\n",
      "\n",
      "2. **Elegance in Simplicity**: \n",
      "   - The poem highlights Python’s design philosophy, which promotes readability and simplicity: “No braces locked in a rigid embrace, / Just elegance found in its open space.” This reflects the language's user-friendly syntax, inviting both beginners and seasoned programmers to engage with it.\n",
      "\n",
      "3. **Exploration and Possibility**:\n",
      "   - The stanza mentioning “data wrangling” and “web’s vast expanse” emphasizes the versatility of Python in various fields, from data science to web development. The line “In the hands of the curious, it offers a chance” invites readers to see Python as a gateway to discovery and innovation.\n",
      "\n",
      "4. **Community and Collaboration**:\n",
      "   - The vibrant community surrounding Python is celebrated in the lines about sharing ideas: “With a community vibrant, a spirit so free.” This acknowledges the collaborative nature of programming, where knowledge is shared and built upon, enhancing the collective learning experience.\n",
      "\n",
      "5. **Growth and Empowerment**:\n",
      "   - The poem recognizes the journey from novice to expert: “From novice to master, all find their way.” This reflects the empowering nature of learning Python, as it allows individuals to overcome doubts and achieve their creative goals.\n",
      "\n",
      "6. **Inspiration and Aspiration**:\n",
      "   - The concluding lines evoke a sense of inspiration, urging readers to embrace their projects and aspirations: “For in Python, dear dreamers, we soar to new heights.” This reinforces the idea that Python is not only a technical tool but also a source of inspiration for dreamers and creators.\n",
      "\n",
      "### Imagery and Language\n",
      "The poem employs vivid imagery and metaphors to illustrate its themes:\n",
      "- **Nature Imagery**: The use of phrases like “gentle waves” and “leaves on a tree” creates a natural, organic feel, suggesting that coding can be a natural and fluid process.\n",
      "- **Jewel Metaphor**: The mention of “libraries gleam like jewels in the night” conveys the value and beauty of Python’s extensive libraries, which enhance its functionality.\n",
      "- **Serpent Symbolism**: The reference to Python as a “serpent, majestic and wise” not only alludes to the language's name but also suggests wisdom and the idea of shedding old skin to embrace new ideas and technologies.\n",
      "\n",
      "### Conclusion\n",
      "Overall, this poem serves as a tribute to Python, celebrating its elegance, versatility, and the vibrant community that surrounds it. It paints programming as both a logical endeavor and a creative pursuit, encouraging readers to explore the endless possibilities that Python offers. Through its rich imagery and themes of empowerment and collaboration, the poem inspires both current and future coders to engage with the language and embrace their creative journeys."
     ]
    },
    {
     "data": {
      "text/plain": [
       "AIMessageChunk(content=\"This poem celebrates Python, a high-level programming language, through rich imagery and metaphorical language. It intertwines themes of creativity, community, and the transformative power of coding. Below, I will analyze various elements of the poem:\\n\\n### Structure and Form\\nThe poem is structured in six stanzas, each consisting of four lines (quatrains), and follows a consistent rhyme scheme (AABB). This regularity in form mirrors the structure and logic inherent in programming, creating a parallel between poetry and coding.\\n\\n### Themes\\n\\n1. **Logic and Artistry**: \\n   - The opening lines introduce the intersection of logic and creativity: “In the realm where logic meets the art.” This sets the stage for the exploration of Python as not just a tool for programming but also a medium for artistic expression.\\n\\n2. **Elegance in Simplicity**: \\n   - The poem highlights Python’s design philosophy, which promotes readability and simplicity: “No braces locked in a rigid embrace, / Just elegance found in its open space.” This reflects the language's user-friendly syntax, inviting both beginners and seasoned programmers to engage with it.\\n\\n3. **Exploration and Possibility**:\\n   - The stanza mentioning “data wrangling” and “web’s vast expanse” emphasizes the versatility of Python in various fields, from data science to web development. The line “In the hands of the curious, it offers a chance” invites readers to see Python as a gateway to discovery and innovation.\\n\\n4. **Community and Collaboration**:\\n   - The vibrant community surrounding Python is celebrated in the lines about sharing ideas: “With a community vibrant, a spirit so free.” This acknowledges the collaborative nature of programming, where knowledge is shared and built upon, enhancing the collective learning experience.\\n\\n5. **Growth and Empowerment**:\\n   - The poem recognizes the journey from novice to expert: “From novice to master, all find their way.” This reflects the empowering nature of learning Python, as it allows individuals to overcome doubts and achieve their creative goals.\\n\\n6. **Inspiration and Aspiration**:\\n   - The concluding lines evoke a sense of inspiration, urging readers to embrace their projects and aspirations: “For in Python, dear dreamers, we soar to new heights.” This reinforces the idea that Python is not only a technical tool but also a source of inspiration for dreamers and creators.\\n\\n### Imagery and Language\\nThe poem employs vivid imagery and metaphors to illustrate its themes:\\n- **Nature Imagery**: The use of phrases like “gentle waves” and “leaves on a tree” creates a natural, organic feel, suggesting that coding can be a natural and fluid process.\\n- **Jewel Metaphor**: The mention of “libraries gleam like jewels in the night” conveys the value and beauty of Python’s extensive libraries, which enhance its functionality.\\n- **Serpent Symbolism**: The reference to Python as a “serpent, majestic and wise” not only alludes to the language's name but also suggests wisdom and the idea of shedding old skin to embrace new ideas and technologies.\\n\\n### Conclusion\\nOverall, this poem serves as a tribute to Python, celebrating its elegance, versatility, and the vibrant community that surrounds it. It paints programming as both a logical endeavor and a creative pursuit, encouraging readers to explore the endless possibilities that Python offers. Through its rich imagery and themes of empowerment and collaboration, the poem inspires both current and future coders to engage with the language and embrace their creative journeys.\")"
      ]
     },
     "execution_count": 2,
     "metadata": {},
     "output_type": "execute_result"
    }
   ],
   "execution_count": 2
  },
  {
   "metadata": {},
   "cell_type": "code",
   "outputs": [],
   "execution_count": null,
   "source": "",
   "id": "2381974113adc06f"
  }
 ],
 "metadata": {
  "kernelspec": {
   "display_name": "Python 3",
   "language": "python",
   "name": "python3"
  },
  "language_info": {
   "codemirror_mode": {
    "name": "ipython",
    "version": 2
   },
   "file_extension": ".py",
   "mimetype": "text/x-python",
   "name": "python",
   "nbconvert_exporter": "python",
   "pygments_lexer": "ipython2",
   "version": "2.7.6"
  }
 },
 "nbformat": 4,
 "nbformat_minor": 5
}
